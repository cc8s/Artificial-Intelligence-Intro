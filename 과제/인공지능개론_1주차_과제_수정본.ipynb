{
  "nbformat": 4,
  "nbformat_minor": 0,
  "metadata": {
    "colab": {
      "provenance": []
    },
    "kernelspec": {
      "name": "python3",
      "display_name": "Python 3"
    },
    "language_info": {
      "name": "python"
    }
  },
  "cells": [
    {
      "cell_type": "markdown",
      "source": [
        "<h1><b>인공지능 개론 1주차 과제</b></h1>\n",
        "<p>컴퓨터공학과 202136038 조성준</p>\n",
        "\n",
        "\n",
        "---\n",
        "\n",
        "<br>\n",
        "<p><b>다음 데이터 셋에 대하여 DT, RF, SVM, LR 분류를 각각 수행해보세요.</b></p>\n"
      ],
      "metadata": {
        "id": "-sYnzIfGPeYp"
      }
    },
    {
      "cell_type": "markdown",
      "source": [
        "\n",
        "**<h2>실제로 분류해보기</h2>**\n",
        "\n",
        "\n",
        "---\n",
        "\n"
      ],
      "metadata": {
        "id": "Cc5SHwA-U02y"
      }
    },
    {
      "cell_type": "code",
      "source": [
        "import pandas as pd\n",
        "# 붓꽃 데이터 CSV 파일 읽기\n",
        "file_path = \"/content/iris.csv\"  #iris.csv를 저장한 경로입력\n",
        "df = pd.read_csv(file_path)\n",
        "\n",
        "# 데이터프레임 확인\n",
        "print(df.head())\n",
        "print(df.columns)"
      ],
      "metadata": {
        "colab": {
          "base_uri": "https://localhost:8080/"
        },
        "id": "lFTWtWrMSwXh",
        "outputId": "2a561e8c-0de3-41d4-e647-592907f30852"
      },
      "execution_count": 13,
      "outputs": [
        {
          "output_type": "stream",
          "name": "stdout",
          "text": [
            "   SepalLength  SepalWidth  PetalLength  PetalWidth         Name\n",
            "0          5.1         3.5          1.4         0.2  Iris-setosa\n",
            "1          4.9         3.0          1.4         0.2  Iris-setosa\n",
            "2          4.7         3.2          1.3         0.2  Iris-setosa\n",
            "3          4.6         3.1          1.5         0.2  Iris-setosa\n",
            "4          5.0         3.6          1.4         0.2  Iris-setosa\n",
            "Index(['SepalLength', 'SepalWidth', 'PetalLength', 'PetalWidth', 'Name'], dtype='object')\n"
          ]
        }
      ]
    },
    {
      "cell_type": "markdown",
      "source": [
        "---\n",
        "\n",
        "<b><h3>데이터 전처리</h3></b>"
      ],
      "metadata": {
        "id": "OnETWoTX-C0U"
      }
    },
    {
      "cell_type": "code",
      "source": [
        "# 데이터 전처리\n",
        "data = df.iloc[:, :-1]  # 입력 데이터 (SepalLength, SepalWidth, PetalLength, PetalWidth)\n",
        "target = df.iloc[:, -1]   # 타겟 데이터 (Name)\n",
        "\n",
        "#훈련세트와 데이터세트로 나누기(20% 테스트세트지정-test_size=0.2)\n",
        "from sklearn.model_selection import train_test_split\n",
        "train_input, test_input, train_target, test_target = train_test_split(data, target, test_size = 0.2, random_state = 42)\n",
        "\n",
        "#훈련세트 120개, 테스트세트 30개\n",
        "print(train_input.shape, test_input.shape)"
      ],
      "metadata": {
        "colab": {
          "base_uri": "https://localhost:8080/"
        },
        "id": "D6GtMhlibLoh",
        "outputId": "18914995-f7c8-46bc-dc05-c20f193b65db"
      },
      "execution_count": 14,
      "outputs": [
        {
          "output_type": "stream",
          "name": "stdout",
          "text": [
            "(120, 4) (30, 4)\n"
          ]
        }
      ]
    },
    {
      "cell_type": "markdown",
      "source": [
        "\n",
        "\n",
        "---\n",
        "<b>StandardScaler를 사용하여 훈련 세트와 테스트 세트를 표준화</b>\n",
        "\n",
        "\n",
        "<br><b><li>\n",
        "DT와 RF는 특성의 스케일(크기)에 영향을 받지 않으므로 표준화를 적용해도 성능에는 거의 차이가 없음.</li>\n",
        "<br><li>\n",
        "SVM과 LR은 거리 기반(내적 연산) 모델이므로 특성 값의 크기가 다르면 모델이 제대로 학습되지 않을 수 있음.</li>\n",
        "<br>\n",
        "※ 따라서 밑의 표준화 결과는 SVM과 LR분류에서만 사용하고 DT와 RF에서는 원본데이터를 사용할 예정\n"
      ],
      "metadata": {
        "id": "jE50Zn2w_yFI"
      }
    },
    {
      "cell_type": "code",
      "source": [
        "#라이브러리 import\n",
        "from sklearn.preprocessing import StandardScaler\n",
        "\n",
        "# StandardScaler를 사용해 훈련 세트 변환\n",
        "ss = StandardScaler()\n",
        "ss.fit(train_input)\n",
        "train_scaled = ss.transform(train_input)\n",
        "test_scaled = ss.transform(test_input)\n"
      ],
      "metadata": {
        "id": "62v6myRBggXh"
      },
      "execution_count": null,
      "outputs": []
    },
    {
      "cell_type": "markdown",
      "source": [
        "<h2><b>DT(결정 트리) 분류<b></h2>"
      ],
      "metadata": {
        "id": "DeBrMS7akxlg"
      }
    },
    {
      "cell_type": "code",
      "source": [
        "from sklearn.metrics import accuracy_score\n",
        "from sklearn.tree import DecisionTreeClassifier\n",
        "\n",
        "# DT 노델 생성\n",
        "dt = DecisionTreeClassifier(random_state=42)\n",
        "\n",
        "# 훈련 데이터로 모델 학습,트리기반 모델이므로 표준화 불필요\n",
        "dt.fit(train_input, train_target)\n",
        "\n",
        "# 테스트 데이터로 예측\n",
        "test_pred = dt.predict(test_input)\n",
        "\n",
        "# 정확도 출력\n",
        "accuracy = accuracy_score(test_target, test_pred)\n",
        "print(f\"DT 정확도: {accuracy:.4f}\")"
      ],
      "metadata": {
        "colab": {
          "base_uri": "https://localhost:8080/"
        },
        "id": "zHvNR5zmlAvT",
        "outputId": "37629a89-49c3-4173-df68-f00bd8b30367"
      },
      "execution_count": 32,
      "outputs": [
        {
          "output_type": "stream",
          "name": "stdout",
          "text": [
            "DT 정확도: 1.0000\n"
          ]
        }
      ]
    },
    {
      "cell_type": "markdown",
      "source": [
        "<h2><b>RF(랜덤 포레스트) 분류<b></h2>\n",
        "\n",
        "---\n",
        "\n"
      ],
      "metadata": {
        "id": "_a5GZs83qiHx"
      }
    },
    {
      "cell_type": "code",
      "source": [
        "from sklearn.ensemble import RandomForestClassifier\n",
        "\n",
        "# RandomForestClassifier 모델 생성\n",
        "rf = RandomForestClassifier(random_state=42)\n",
        "\n",
        "# 훈련 데이터로 모델 학습,트리기반 모델이므로 표준화 불필요\n",
        "rf.fit(train_input, train_target)\n",
        "\n",
        "# 테스트 데이터로 예측\n",
        "test_pred = rf.predict(test_input)\n",
        "\n",
        "# 정확도 출력\n",
        "accuracy = accuracy_score(test_target, test_pred)\n",
        "print(f\"RF 정확도: {accuracy:.4f}\")"
      ],
      "metadata": {
        "colab": {
          "base_uri": "https://localhost:8080/"
        },
        "id": "KcQvgd-XsN7S",
        "outputId": "d5a405a2-c872-4f02-8b20-841dae31924a"
      },
      "execution_count": 33,
      "outputs": [
        {
          "output_type": "stream",
          "name": "stdout",
          "text": [
            "RF 정확도: 1.0000\n"
          ]
        }
      ]
    },
    {
      "cell_type": "markdown",
      "source": [
        "<h2><b>SVM(서포트 벡터 머신) 분류<b></h2>\n",
        "\n",
        "---\n",
        "\n"
      ],
      "metadata": {
        "id": "BzoRuMw9qzpb"
      }
    },
    {
      "cell_type": "code",
      "source": [
        "from sklearn.svm import SVC\n",
        "\n",
        "# SVM 모델 생성 (커널은 'linear'로 설정)\n",
        "svm = SVC(kernel='linear', random_state=42)\n",
        "\n",
        "# 훈련 데이터로 모델 학습, 거리 기반모델이므로 위에서 StandardScaler을 사용해 생성한 표준화 데이터 사용\n",
        "svm.fit(train_scaled, train_target)\n",
        "\n",
        "# 테스트 데이터로 예측\n",
        "test_pred = svm.predict(test_scaled)\n",
        "\n",
        "# 정확도 출력\n",
        "accuracy = accuracy_score(test_target, test_pred)\n",
        "print(f\"SVM 정확도: {accuracy:.4f}\")"
      ],
      "metadata": {
        "colab": {
          "base_uri": "https://localhost:8080/"
        },
        "id": "CUdglFIitg1L",
        "outputId": "4520919c-1d54-4d86-a956-ffb1ce922976"
      },
      "execution_count": 31,
      "outputs": [
        {
          "output_type": "stream",
          "name": "stdout",
          "text": [
            "SVM 정확도: 0.9667\n"
          ]
        }
      ]
    },
    {
      "cell_type": "markdown",
      "source": [
        "<h2><b>LR(로지스틱 회귀) 분류<b></h2>\n",
        "\n",
        "---"
      ],
      "metadata": {
        "id": "hy7tZgvwIShv"
      }
    },
    {
      "cell_type": "code",
      "source": [
        "from sklearn.linear_model import LogisticRegression\n",
        "\n",
        "# LR 모델 생성\n",
        "lr = LogisticRegression(random_state=42)\n",
        "\n",
        "# 훈련 데이터로 모델 학습, 거리 기반모델이므로 위에서 StandardScaler을 사용해 생성한 표준화 데이터 사용\n",
        "lr.fit(train_scaled, train_target)\n",
        "\n",
        "# 테스트 데이터로 예측\n",
        "test_pred = lr.predict(test_scaled)\n",
        "\n",
        "# 정확도 출력\n",
        "accuracy = accuracy_score(test_target, test_pred)\n",
        "print(f\"LR 정확도: {accuracy:.4f}\")"
      ],
      "metadata": {
        "colab": {
          "base_uri": "https://localhost:8080/"
        },
        "id": "O4wc260OIRy3",
        "outputId": "a970ccf6-eda3-4d33-a76c-06bd92838b52"
      },
      "execution_count": 34,
      "outputs": [
        {
          "output_type": "stream",
          "name": "stdout",
          "text": [
            "LR 정확도: 1.0000\n"
          ]
        }
      ]
    }
  ]
}