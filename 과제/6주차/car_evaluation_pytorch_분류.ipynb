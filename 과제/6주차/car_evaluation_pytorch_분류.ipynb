{
  "cells": [
    {
      "cell_type": "markdown",
      "metadata": {
        "id": "haEaIylTGC09"
      },
      "source": [
        "<h1><b>인공지능개론 6주차 수업실습<br></b></h1>\n",
        "<p>컴퓨터공학과 202136038 조성준</p>\n",
        "\n",
        "\n",
        "---"
      ]
    },
    {
      "cell_type": "markdown",
      "source": [
        "<h1><b>Pytorch 분류(car_evaluation.csv)<br></b></h1>\n",
        "\n",
        "---\n",
        "\n"
      ],
      "metadata": {
        "id": "XJUhz2YYjnOW"
      }
    },
    {
      "cell_type": "markdown",
      "source": [
        "<h2><b>0. 라이브러리 import(분류)</b></h2>"
      ],
      "metadata": {
        "id": "jqAv-G4zQVUD"
      }
    },
    {
      "cell_type": "code",
      "source": [
        "import pandas as pd\n",
        "import numpy as np\n",
        "import seaborn as sns\n",
        "from sklearn.preprocessing import LabelEncoder\n",
        "from sklearn.metrics import precision_score, recall_score, f1_score, roc_auc_score, confusion_matrix, ConfusionMatrixDisplay\n",
        "import matplotlib.pyplot as plt\n",
        "\n",
        "# pytorch관련 라이브러리\n",
        "import torch\n",
        "import torch.nn as nn\n",
        "import torch.optim as optim\n",
        "from torch.utils.data import Dataset, DataLoader, TensorDataset\n",
        "from torchsummary import summary"
      ],
      "metadata": {
        "id": "91fL0eTHQT7s"
      },
      "execution_count": 1,
      "outputs": []
    },
    {
      "cell_type": "markdown",
      "metadata": {
        "id": "whzgSujbImpT"
      },
      "source": [
        "<h2><b>1. 데이터 로딩</b></h2>"
      ]
    },
    {
      "cell_type": "code",
      "execution_count": 2,
      "metadata": {
        "colab": {
          "base_uri": "https://localhost:8080/",
          "height": 424
        },
        "id": "DOAGNz74F3rK",
        "outputId": "90b30428-3d1c-430e-b31a-99ce90f2bd83"
      },
      "outputs": [
        {
          "output_type": "execute_result",
          "data": {
            "text/plain": [
              "      price  maint  doors persons lug_capacity safety output\n",
              "0     vhigh  vhigh      2       2        small    low  unacc\n",
              "1     vhigh  vhigh      2       2        small    med  unacc\n",
              "2     vhigh  vhigh      2       2        small   high  unacc\n",
              "3     vhigh  vhigh      2       2          med    low  unacc\n",
              "4     vhigh  vhigh      2       2          med    med  unacc\n",
              "...     ...    ...    ...     ...          ...    ...    ...\n",
              "1723    low    low  5more    more          med    med   good\n",
              "1724    low    low  5more    more          med   high  vgood\n",
              "1725    low    low  5more    more          big    low  unacc\n",
              "1726    low    low  5more    more          big    med   good\n",
              "1727    low    low  5more    more          big   high  vgood\n",
              "\n",
              "[1728 rows x 7 columns]"
            ],
            "text/html": [
              "\n",
              "  <div id=\"df-940dbfa8-4b83-49db-a2a2-a7ec512b46d5\" class=\"colab-df-container\">\n",
              "    <div>\n",
              "<style scoped>\n",
              "    .dataframe tbody tr th:only-of-type {\n",
              "        vertical-align: middle;\n",
              "    }\n",
              "\n",
              "    .dataframe tbody tr th {\n",
              "        vertical-align: top;\n",
              "    }\n",
              "\n",
              "    .dataframe thead th {\n",
              "        text-align: right;\n",
              "    }\n",
              "</style>\n",
              "<table border=\"1\" class=\"dataframe\">\n",
              "  <thead>\n",
              "    <tr style=\"text-align: right;\">\n",
              "      <th></th>\n",
              "      <th>price</th>\n",
              "      <th>maint</th>\n",
              "      <th>doors</th>\n",
              "      <th>persons</th>\n",
              "      <th>lug_capacity</th>\n",
              "      <th>safety</th>\n",
              "      <th>output</th>\n",
              "    </tr>\n",
              "  </thead>\n",
              "  <tbody>\n",
              "    <tr>\n",
              "      <th>0</th>\n",
              "      <td>vhigh</td>\n",
              "      <td>vhigh</td>\n",
              "      <td>2</td>\n",
              "      <td>2</td>\n",
              "      <td>small</td>\n",
              "      <td>low</td>\n",
              "      <td>unacc</td>\n",
              "    </tr>\n",
              "    <tr>\n",
              "      <th>1</th>\n",
              "      <td>vhigh</td>\n",
              "      <td>vhigh</td>\n",
              "      <td>2</td>\n",
              "      <td>2</td>\n",
              "      <td>small</td>\n",
              "      <td>med</td>\n",
              "      <td>unacc</td>\n",
              "    </tr>\n",
              "    <tr>\n",
              "      <th>2</th>\n",
              "      <td>vhigh</td>\n",
              "      <td>vhigh</td>\n",
              "      <td>2</td>\n",
              "      <td>2</td>\n",
              "      <td>small</td>\n",
              "      <td>high</td>\n",
              "      <td>unacc</td>\n",
              "    </tr>\n",
              "    <tr>\n",
              "      <th>3</th>\n",
              "      <td>vhigh</td>\n",
              "      <td>vhigh</td>\n",
              "      <td>2</td>\n",
              "      <td>2</td>\n",
              "      <td>med</td>\n",
              "      <td>low</td>\n",
              "      <td>unacc</td>\n",
              "    </tr>\n",
              "    <tr>\n",
              "      <th>4</th>\n",
              "      <td>vhigh</td>\n",
              "      <td>vhigh</td>\n",
              "      <td>2</td>\n",
              "      <td>2</td>\n",
              "      <td>med</td>\n",
              "      <td>med</td>\n",
              "      <td>unacc</td>\n",
              "    </tr>\n",
              "    <tr>\n",
              "      <th>...</th>\n",
              "      <td>...</td>\n",
              "      <td>...</td>\n",
              "      <td>...</td>\n",
              "      <td>...</td>\n",
              "      <td>...</td>\n",
              "      <td>...</td>\n",
              "      <td>...</td>\n",
              "    </tr>\n",
              "    <tr>\n",
              "      <th>1723</th>\n",
              "      <td>low</td>\n",
              "      <td>low</td>\n",
              "      <td>5more</td>\n",
              "      <td>more</td>\n",
              "      <td>med</td>\n",
              "      <td>med</td>\n",
              "      <td>good</td>\n",
              "    </tr>\n",
              "    <tr>\n",
              "      <th>1724</th>\n",
              "      <td>low</td>\n",
              "      <td>low</td>\n",
              "      <td>5more</td>\n",
              "      <td>more</td>\n",
              "      <td>med</td>\n",
              "      <td>high</td>\n",
              "      <td>vgood</td>\n",
              "    </tr>\n",
              "    <tr>\n",
              "      <th>1725</th>\n",
              "      <td>low</td>\n",
              "      <td>low</td>\n",
              "      <td>5more</td>\n",
              "      <td>more</td>\n",
              "      <td>big</td>\n",
              "      <td>low</td>\n",
              "      <td>unacc</td>\n",
              "    </tr>\n",
              "    <tr>\n",
              "      <th>1726</th>\n",
              "      <td>low</td>\n",
              "      <td>low</td>\n",
              "      <td>5more</td>\n",
              "      <td>more</td>\n",
              "      <td>big</td>\n",
              "      <td>med</td>\n",
              "      <td>good</td>\n",
              "    </tr>\n",
              "    <tr>\n",
              "      <th>1727</th>\n",
              "      <td>low</td>\n",
              "      <td>low</td>\n",
              "      <td>5more</td>\n",
              "      <td>more</td>\n",
              "      <td>big</td>\n",
              "      <td>high</td>\n",
              "      <td>vgood</td>\n",
              "    </tr>\n",
              "  </tbody>\n",
              "</table>\n",
              "<p>1728 rows × 7 columns</p>\n",
              "</div>\n",
              "    <div class=\"colab-df-buttons\">\n",
              "\n",
              "  <div class=\"colab-df-container\">\n",
              "    <button class=\"colab-df-convert\" onclick=\"convertToInteractive('df-940dbfa8-4b83-49db-a2a2-a7ec512b46d5')\"\n",
              "            title=\"Convert this dataframe to an interactive table.\"\n",
              "            style=\"display:none;\">\n",
              "\n",
              "  <svg xmlns=\"http://www.w3.org/2000/svg\" height=\"24px\" viewBox=\"0 -960 960 960\">\n",
              "    <path d=\"M120-120v-720h720v720H120Zm60-500h600v-160H180v160Zm220 220h160v-160H400v160Zm0 220h160v-160H400v160ZM180-400h160v-160H180v160Zm440 0h160v-160H620v160ZM180-180h160v-160H180v160Zm440 0h160v-160H620v160Z\"/>\n",
              "  </svg>\n",
              "    </button>\n",
              "\n",
              "  <style>\n",
              "    .colab-df-container {\n",
              "      display:flex;\n",
              "      gap: 12px;\n",
              "    }\n",
              "\n",
              "    .colab-df-convert {\n",
              "      background-color: #E8F0FE;\n",
              "      border: none;\n",
              "      border-radius: 50%;\n",
              "      cursor: pointer;\n",
              "      display: none;\n",
              "      fill: #1967D2;\n",
              "      height: 32px;\n",
              "      padding: 0 0 0 0;\n",
              "      width: 32px;\n",
              "    }\n",
              "\n",
              "    .colab-df-convert:hover {\n",
              "      background-color: #E2EBFA;\n",
              "      box-shadow: 0px 1px 2px rgba(60, 64, 67, 0.3), 0px 1px 3px 1px rgba(60, 64, 67, 0.15);\n",
              "      fill: #174EA6;\n",
              "    }\n",
              "\n",
              "    .colab-df-buttons div {\n",
              "      margin-bottom: 4px;\n",
              "    }\n",
              "\n",
              "    [theme=dark] .colab-df-convert {\n",
              "      background-color: #3B4455;\n",
              "      fill: #D2E3FC;\n",
              "    }\n",
              "\n",
              "    [theme=dark] .colab-df-convert:hover {\n",
              "      background-color: #434B5C;\n",
              "      box-shadow: 0px 1px 3px 1px rgba(0, 0, 0, 0.15);\n",
              "      filter: drop-shadow(0px 1px 2px rgba(0, 0, 0, 0.3));\n",
              "      fill: #FFFFFF;\n",
              "    }\n",
              "  </style>\n",
              "\n",
              "    <script>\n",
              "      const buttonEl =\n",
              "        document.querySelector('#df-940dbfa8-4b83-49db-a2a2-a7ec512b46d5 button.colab-df-convert');\n",
              "      buttonEl.style.display =\n",
              "        google.colab.kernel.accessAllowed ? 'block' : 'none';\n",
              "\n",
              "      async function convertToInteractive(key) {\n",
              "        const element = document.querySelector('#df-940dbfa8-4b83-49db-a2a2-a7ec512b46d5');\n",
              "        const dataTable =\n",
              "          await google.colab.kernel.invokeFunction('convertToInteractive',\n",
              "                                                    [key], {});\n",
              "        if (!dataTable) return;\n",
              "\n",
              "        const docLinkHtml = 'Like what you see? Visit the ' +\n",
              "          '<a target=\"_blank\" href=https://colab.research.google.com/notebooks/data_table.ipynb>data table notebook</a>'\n",
              "          + ' to learn more about interactive tables.';\n",
              "        element.innerHTML = '';\n",
              "        dataTable['output_type'] = 'display_data';\n",
              "        await google.colab.output.renderOutput(dataTable, element);\n",
              "        const docLink = document.createElement('div');\n",
              "        docLink.innerHTML = docLinkHtml;\n",
              "        element.appendChild(docLink);\n",
              "      }\n",
              "    </script>\n",
              "  </div>\n",
              "\n",
              "\n",
              "<div id=\"df-6b7a3af0-9159-4132-b16c-ae99c636236e\">\n",
              "  <button class=\"colab-df-quickchart\" onclick=\"quickchart('df-6b7a3af0-9159-4132-b16c-ae99c636236e')\"\n",
              "            title=\"Suggest charts\"\n",
              "            style=\"display:none;\">\n",
              "\n",
              "<svg xmlns=\"http://www.w3.org/2000/svg\" height=\"24px\"viewBox=\"0 0 24 24\"\n",
              "     width=\"24px\">\n",
              "    <g>\n",
              "        <path d=\"M19 3H5c-1.1 0-2 .9-2 2v14c0 1.1.9 2 2 2h14c1.1 0 2-.9 2-2V5c0-1.1-.9-2-2-2zM9 17H7v-7h2v7zm4 0h-2V7h2v10zm4 0h-2v-4h2v4z\"/>\n",
              "    </g>\n",
              "</svg>\n",
              "  </button>\n",
              "\n",
              "<style>\n",
              "  .colab-df-quickchart {\n",
              "      --bg-color: #E8F0FE;\n",
              "      --fill-color: #1967D2;\n",
              "      --hover-bg-color: #E2EBFA;\n",
              "      --hover-fill-color: #174EA6;\n",
              "      --disabled-fill-color: #AAA;\n",
              "      --disabled-bg-color: #DDD;\n",
              "  }\n",
              "\n",
              "  [theme=dark] .colab-df-quickchart {\n",
              "      --bg-color: #3B4455;\n",
              "      --fill-color: #D2E3FC;\n",
              "      --hover-bg-color: #434B5C;\n",
              "      --hover-fill-color: #FFFFFF;\n",
              "      --disabled-bg-color: #3B4455;\n",
              "      --disabled-fill-color: #666;\n",
              "  }\n",
              "\n",
              "  .colab-df-quickchart {\n",
              "    background-color: var(--bg-color);\n",
              "    border: none;\n",
              "    border-radius: 50%;\n",
              "    cursor: pointer;\n",
              "    display: none;\n",
              "    fill: var(--fill-color);\n",
              "    height: 32px;\n",
              "    padding: 0;\n",
              "    width: 32px;\n",
              "  }\n",
              "\n",
              "  .colab-df-quickchart:hover {\n",
              "    background-color: var(--hover-bg-color);\n",
              "    box-shadow: 0 1px 2px rgba(60, 64, 67, 0.3), 0 1px 3px 1px rgba(60, 64, 67, 0.15);\n",
              "    fill: var(--button-hover-fill-color);\n",
              "  }\n",
              "\n",
              "  .colab-df-quickchart-complete:disabled,\n",
              "  .colab-df-quickchart-complete:disabled:hover {\n",
              "    background-color: var(--disabled-bg-color);\n",
              "    fill: var(--disabled-fill-color);\n",
              "    box-shadow: none;\n",
              "  }\n",
              "\n",
              "  .colab-df-spinner {\n",
              "    border: 2px solid var(--fill-color);\n",
              "    border-color: transparent;\n",
              "    border-bottom-color: var(--fill-color);\n",
              "    animation:\n",
              "      spin 1s steps(1) infinite;\n",
              "  }\n",
              "\n",
              "  @keyframes spin {\n",
              "    0% {\n",
              "      border-color: transparent;\n",
              "      border-bottom-color: var(--fill-color);\n",
              "      border-left-color: var(--fill-color);\n",
              "    }\n",
              "    20% {\n",
              "      border-color: transparent;\n",
              "      border-left-color: var(--fill-color);\n",
              "      border-top-color: var(--fill-color);\n",
              "    }\n",
              "    30% {\n",
              "      border-color: transparent;\n",
              "      border-left-color: var(--fill-color);\n",
              "      border-top-color: var(--fill-color);\n",
              "      border-right-color: var(--fill-color);\n",
              "    }\n",
              "    40% {\n",
              "      border-color: transparent;\n",
              "      border-right-color: var(--fill-color);\n",
              "      border-top-color: var(--fill-color);\n",
              "    }\n",
              "    60% {\n",
              "      border-color: transparent;\n",
              "      border-right-color: var(--fill-color);\n",
              "    }\n",
              "    80% {\n",
              "      border-color: transparent;\n",
              "      border-right-color: var(--fill-color);\n",
              "      border-bottom-color: var(--fill-color);\n",
              "    }\n",
              "    90% {\n",
              "      border-color: transparent;\n",
              "      border-bottom-color: var(--fill-color);\n",
              "    }\n",
              "  }\n",
              "</style>\n",
              "\n",
              "  <script>\n",
              "    async function quickchart(key) {\n",
              "      const quickchartButtonEl =\n",
              "        document.querySelector('#' + key + ' button');\n",
              "      quickchartButtonEl.disabled = true;  // To prevent multiple clicks.\n",
              "      quickchartButtonEl.classList.add('colab-df-spinner');\n",
              "      try {\n",
              "        const charts = await google.colab.kernel.invokeFunction(\n",
              "            'suggestCharts', [key], {});\n",
              "      } catch (error) {\n",
              "        console.error('Error during call to suggestCharts:', error);\n",
              "      }\n",
              "      quickchartButtonEl.classList.remove('colab-df-spinner');\n",
              "      quickchartButtonEl.classList.add('colab-df-quickchart-complete');\n",
              "    }\n",
              "    (() => {\n",
              "      let quickchartButtonEl =\n",
              "        document.querySelector('#df-6b7a3af0-9159-4132-b16c-ae99c636236e button');\n",
              "      quickchartButtonEl.style.display =\n",
              "        google.colab.kernel.accessAllowed ? 'block' : 'none';\n",
              "    })();\n",
              "  </script>\n",
              "</div>\n",
              "\n",
              "  <div id=\"id_82ac8e9f-e380-489e-8beb-e6044a851d84\">\n",
              "    <style>\n",
              "      .colab-df-generate {\n",
              "        background-color: #E8F0FE;\n",
              "        border: none;\n",
              "        border-radius: 50%;\n",
              "        cursor: pointer;\n",
              "        display: none;\n",
              "        fill: #1967D2;\n",
              "        height: 32px;\n",
              "        padding: 0 0 0 0;\n",
              "        width: 32px;\n",
              "      }\n",
              "\n",
              "      .colab-df-generate:hover {\n",
              "        background-color: #E2EBFA;\n",
              "        box-shadow: 0px 1px 2px rgba(60, 64, 67, 0.3), 0px 1px 3px 1px rgba(60, 64, 67, 0.15);\n",
              "        fill: #174EA6;\n",
              "      }\n",
              "\n",
              "      [theme=dark] .colab-df-generate {\n",
              "        background-color: #3B4455;\n",
              "        fill: #D2E3FC;\n",
              "      }\n",
              "\n",
              "      [theme=dark] .colab-df-generate:hover {\n",
              "        background-color: #434B5C;\n",
              "        box-shadow: 0px 1px 3px 1px rgba(0, 0, 0, 0.15);\n",
              "        filter: drop-shadow(0px 1px 2px rgba(0, 0, 0, 0.3));\n",
              "        fill: #FFFFFF;\n",
              "      }\n",
              "    </style>\n",
              "    <button class=\"colab-df-generate\" onclick=\"generateWithVariable('df')\"\n",
              "            title=\"Generate code using this dataframe.\"\n",
              "            style=\"display:none;\">\n",
              "\n",
              "  <svg xmlns=\"http://www.w3.org/2000/svg\" height=\"24px\"viewBox=\"0 0 24 24\"\n",
              "       width=\"24px\">\n",
              "    <path d=\"M7,19H8.4L18.45,9,17,7.55,7,17.6ZM5,21V16.75L18.45,3.32a2,2,0,0,1,2.83,0l1.4,1.43a1.91,1.91,0,0,1,.58,1.4,1.91,1.91,0,0,1-.58,1.4L9.25,21ZM18.45,9,17,7.55Zm-12,3A5.31,5.31,0,0,0,4.9,8.1,5.31,5.31,0,0,0,1,6.5,5.31,5.31,0,0,0,4.9,4.9,5.31,5.31,0,0,0,6.5,1,5.31,5.31,0,0,0,8.1,4.9,5.31,5.31,0,0,0,12,6.5,5.46,5.46,0,0,0,6.5,12Z\"/>\n",
              "  </svg>\n",
              "    </button>\n",
              "    <script>\n",
              "      (() => {\n",
              "      const buttonEl =\n",
              "        document.querySelector('#id_82ac8e9f-e380-489e-8beb-e6044a851d84 button.colab-df-generate');\n",
              "      buttonEl.style.display =\n",
              "        google.colab.kernel.accessAllowed ? 'block' : 'none';\n",
              "\n",
              "      buttonEl.onclick = () => {\n",
              "        google.colab.notebook.generateWithVariable('df');\n",
              "      }\n",
              "      })();\n",
              "    </script>\n",
              "  </div>\n",
              "\n",
              "    </div>\n",
              "  </div>\n"
            ],
            "application/vnd.google.colaboratory.intrinsic+json": {
              "type": "dataframe",
              "variable_name": "df",
              "summary": "{\n  \"name\": \"df\",\n  \"rows\": 1728,\n  \"fields\": [\n    {\n      \"column\": \"price\",\n      \"properties\": {\n        \"dtype\": \"category\",\n        \"num_unique_values\": 4,\n        \"samples\": [\n          \"high\",\n          \"low\",\n          \"vhigh\"\n        ],\n        \"semantic_type\": \"\",\n        \"description\": \"\"\n      }\n    },\n    {\n      \"column\": \"maint\",\n      \"properties\": {\n        \"dtype\": \"category\",\n        \"num_unique_values\": 4,\n        \"samples\": [\n          \"high\",\n          \"low\",\n          \"vhigh\"\n        ],\n        \"semantic_type\": \"\",\n        \"description\": \"\"\n      }\n    },\n    {\n      \"column\": \"doors\",\n      \"properties\": {\n        \"dtype\": \"category\",\n        \"num_unique_values\": 4,\n        \"samples\": [\n          \"3\",\n          \"5more\",\n          \"2\"\n        ],\n        \"semantic_type\": \"\",\n        \"description\": \"\"\n      }\n    },\n    {\n      \"column\": \"persons\",\n      \"properties\": {\n        \"dtype\": \"category\",\n        \"num_unique_values\": 3,\n        \"samples\": [\n          \"2\",\n          \"4\",\n          \"more\"\n        ],\n        \"semantic_type\": \"\",\n        \"description\": \"\"\n      }\n    },\n    {\n      \"column\": \"lug_capacity\",\n      \"properties\": {\n        \"dtype\": \"category\",\n        \"num_unique_values\": 3,\n        \"samples\": [\n          \"small\",\n          \"med\",\n          \"big\"\n        ],\n        \"semantic_type\": \"\",\n        \"description\": \"\"\n      }\n    },\n    {\n      \"column\": \"safety\",\n      \"properties\": {\n        \"dtype\": \"category\",\n        \"num_unique_values\": 3,\n        \"samples\": [\n          \"low\",\n          \"med\",\n          \"high\"\n        ],\n        \"semantic_type\": \"\",\n        \"description\": \"\"\n      }\n    },\n    {\n      \"column\": \"output\",\n      \"properties\": {\n        \"dtype\": \"category\",\n        \"num_unique_values\": 4,\n        \"samples\": [\n          \"acc\",\n          \"good\",\n          \"unacc\"\n        ],\n        \"semantic_type\": \"\",\n        \"description\": \"\"\n      }\n    }\n  ]\n}"
            }
          },
          "metadata": {},
          "execution_count": 2
        }
      ],
      "source": [
        "# URL\n",
        "url = \"https://raw.githubusercontent.com/harjotspahwa/Car-Evaluation/master/car_evaluation.csv\"\n",
        "\n",
        "# 컬럼 이름 지정\n",
        "column_names = ['price',\t'maint',\t'doors',\t'persons',\t'lug_capacity',\t'safety', 'output']\n",
        "\n",
        "# URL에서 직접 CSV 불러오기\n",
        "df = pd.read_csv(url, header=None, names=column_names)  # 이미 컬럼명이 포함된 경우는 header=0, 없으면 header=None + names=column_names\n",
        "\n",
        "# 데이터 확인\n",
        "df"
      ]
    },
    {
      "cell_type": "code",
      "execution_count": 3,
      "metadata": {
        "colab": {
          "base_uri": "https://localhost:8080/"
        },
        "id": "g3W3cPFzWFis",
        "outputId": "cc112c44-899e-461e-eb83-8af4f0b16337"
      },
      "outputs": [
        {
          "output_type": "stream",
          "name": "stdout",
          "text": [
            "Index(['price', 'maint', 'doors', 'persons', 'lug_capacity', 'safety',\n",
            "       'output'],\n",
            "      dtype='object')\n"
          ]
        }
      ],
      "source": [
        "# 컬렴명 확인\n",
        "print(df.columns)"
      ]
    },
    {
      "cell_type": "markdown",
      "metadata": {
        "id": "IwCy5Ly7Kt4u"
      },
      "source": [
        "<h2><b>2. 결측치 확인</b></h2>"
      ]
    },
    {
      "cell_type": "code",
      "execution_count": 4,
      "metadata": {
        "colab": {
          "base_uri": "https://localhost:8080/"
        },
        "id": "IAjPiFUzKybZ",
        "outputId": "eab84dea-2cac-462a-b385-21d3cc023583"
      },
      "outputs": [
        {
          "output_type": "stream",
          "name": "stdout",
          "text": [
            "price           0\n",
            "maint           0\n",
            "doors           0\n",
            "persons         0\n",
            "lug_capacity    0\n",
            "safety          0\n",
            "output          0\n",
            "dtype: int64\n"
          ]
        }
      ],
      "source": [
        "# 결측치 확인\n",
        "print(df.isnull().sum())\n",
        "# 확인 결과: 결측치가 확인되지않음"
      ]
    },
    {
      "cell_type": "markdown",
      "metadata": {
        "id": "2eRh6sBfGT_D"
      },
      "source": [
        "<h2><b>3. 레이블 확인(imbalanced data)</b></h2>\n",
        "<li>타겟 변수(target)의 분포를 확인</li>"
      ]
    },
    {
      "cell_type": "code",
      "execution_count": 5,
      "metadata": {
        "id": "CMNivTPcc1MK",
        "colab": {
          "base_uri": "https://localhost:8080/",
          "height": 696
        },
        "outputId": "62982fbb-23eb-42a6-b449-73cf46a8e8fa"
      },
      "outputs": [
        {
          "output_type": "display_data",
          "data": {
            "text/plain": [
              "<Figure size 640x480 with 1 Axes>"
            ],
            "image/png": "[encoded data removed]"
          },
          "metadata": {}
        },
        {
          "output_type": "execute_result",
          "data": {
            "text/plain": [
              "output\n",
              "unacc    1210\n",
              "acc       384\n",
              "good       69\n",
              "vgood      65\n",
              "Name: count, dtype: int64"
            ],
            "text/html": [
              "<div>\n",
              "<style scoped>\n",
              "    .dataframe tbody tr th:only-of-type {\n",
              "        vertical-align: middle;\n",
              "    }\n",
              "\n",
              "    .dataframe tbody tr th {\n",
              "        vertical-align: top;\n",
              "    }\n",
              "\n",
              "    .dataframe thead th {\n",
              "        text-align: right;\n",
              "    }\n",
              "</style>\n",
              "<table border=\"1\" class=\"dataframe\">\n",
              "  <thead>\n",
              "    <tr style=\"text-align: right;\">\n",
              "      <th></th>\n",
              "      <th>count</th>\n",
              "    </tr>\n",
              "    <tr>\n",
              "      <th>output</th>\n",
              "      <th></th>\n",
              "    </tr>\n",
              "  </thead>\n",
              "  <tbody>\n",
              "    <tr>\n",
              "      <th>unacc</th>\n",
              "      <td>1210</td>\n",
              "    </tr>\n",
              "    <tr>\n",
              "      <th>acc</th>\n",
              "      <td>384</td>\n",
              "    </tr>\n",
              "    <tr>\n",
              "      <th>good</th>\n",
              "      <td>69</td>\n",
              "    </tr>\n",
              "    <tr>\n",
              "      <th>vgood</th>\n",
              "      <td>65</td>\n",
              "    </tr>\n",
              "  </tbody>\n",
              "</table>\n",
              "</div><br><label><b>dtype:</b> int64</label>"
            ]
          },
          "metadata": {},
          "execution_count": 5
        }
      ],
      "source": [
        "# 레이블 갯수 확인 (그래프)\n",
        "sns.countplot(df['output'])\n",
        "plt.xlabel(\"Output\")\n",
        "plt.ylabel(\"Count\")\n",
        "plt.title(\"Output Count\")\n",
        "plt.show()\n",
        "\n",
        "# 레이블 갯수 확인 (숫자)\n",
        "df['output'].value_counts()\n"
      ]
    },
    {
      "cell_type": "markdown",
      "source": [
        "<h2><b>4. 데이터 전처리</b></h2>"
      ],
      "metadata": {
        "id": "_dD52uB5ko1T"
      }
    },
    {
      "cell_type": "code",
      "source": [
        "# 입력 변수와 출력 변수 분리\n",
        "X = df.drop('output', axis=1)\n",
        "y = df['output']\n",
        "\n",
        "# 범주형 변수들 Label Encoding\n",
        "label_encoders = {}\n",
        "for column in X.columns:\n",
        "    le = LabelEncoder()\n",
        "    X[column] = le.fit_transform(X[column])\n",
        "    label_encoders[column] = le\n",
        "\n",
        "# 출력값도 Label Encoding\n",
        "output_encoder = LabelEncoder()\n",
        "y = output_encoder.fit_transform(y)\n",
        "\n",
        "# numpy 배열로 변환\n",
        "X = X.values\n",
        "y = y.reshape(-1, 1)\n",
        "\n",
        "# Tensor로 변환\n",
        "X_tensor = torch.tensor(X, dtype=torch.float32)\n",
        "y_tensor = torch.tensor(y, dtype=torch.long).squeeze()\n",
        "\n",
        "# 훈련/검증 데이터 분할\n",
        "from sklearn.model_selection import train_test_split\n",
        "X_train, X_val, y_train, y_val = train_test_split(X_tensor, y_tensor, test_size=0.2, random_state=42, stratify=y_tensor)\n",
        "\n",
        "# DataLoader 생성\n",
        "train_dataset = TensorDataset(X_train, y_train)\n",
        "val_dataset = TensorDataset(X_val, y_val)\n",
        "\n",
        "train_loader = DataLoader(train_dataset, batch_size=32, shuffle=True)\n",
        "val_loader = DataLoader(val_dataset, batch_size=32, shuffle=False)\n",
        "\n",
        "# 클래스 개수 확인\n",
        "num_classes = len(output_encoder.classes_)\n"
      ],
      "metadata": {
        "collapsed": true,
        "id": "6P-j2TZkkvnO"
      },
      "execution_count": 6,
      "outputs": []
    },
    {
      "cell_type": "markdown",
      "source": [
        "<h2><b>5. 모델 정의</b></h2>"
      ],
      "metadata": {
        "id": "2pQcAHHBrjul"
      }
    },
    {
      "cell_type": "code",
      "source": [
        "class CarClassifier(nn.Module):\n",
        "    def __init__(self, input_dim, hidden_dim, output_dim):\n",
        "        super(CarClassifier, self).__init__()\n",
        "        self.model = nn.Sequential(\n",
        "            nn.Linear(input_dim, hidden_dim),\n",
        "            nn.ReLU(),\n",
        "            nn.Dropout(0.3),\n",
        "            nn.Linear(hidden_dim, hidden_dim),\n",
        "            nn.ReLU(),\n",
        "            nn.Dropout(0.3),\n",
        "            nn.Linear(hidden_dim, output_dim)\n",
        "        )\n",
        "\n",
        "    def forward(self, x):\n",
        "        return self.model(x)\n",
        "\n",
        "# 하이퍼파라미터 설정\n",
        "input_dim = X.shape[1]\n",
        "hidden_dim = 64\n",
        "output_dim = num_classes\n",
        "\n",
        "model = CarClassifier(input_dim, hidden_dim, output_dim)\n",
        "summary(model, input_size=(input_dim,))"
      ],
      "metadata": {
        "id": "swInOSzrrkMi",
        "colab": {
          "base_uri": "https://localhost:8080/"
        },
        "outputId": "bf5b4b87-e587-452e-d1d8-f7bb2f247235"
      },
      "execution_count": 7,
      "outputs": [
        {
          "output_type": "stream",
          "name": "stdout",
          "text": [
            "----------------------------------------------------------------\n",
            "        Layer (type)               Output Shape         Param #\n",
            "================================================================\n",
            "            Linear-1                   [-1, 64]             448\n",
            "              ReLU-2                   [-1, 64]               0\n",
            "           Dropout-3                   [-1, 64]               0\n",
            "            Linear-4                   [-1, 64]           4,160\n",
            "              ReLU-5                   [-1, 64]               0\n",
            "           Dropout-6                   [-1, 64]               0\n",
            "            Linear-7                    [-1, 4]             260\n",
            "================================================================\n",
            "Total params: 4,868\n",
            "Trainable params: 4,868\n",
            "Non-trainable params: 0\n",
            "----------------------------------------------------------------\n",
            "Input size (MB): 0.00\n",
            "Forward/backward pass size (MB): 0.00\n",
            "Params size (MB): 0.02\n",
            "Estimated Total Size (MB): 0.02\n",
            "----------------------------------------------------------------\n"
          ]
        }
      ]
    },
    {
      "cell_type": "markdown",
      "source": [
        "<h2><b>6. 손실함수 및 옵티마이져 기법 정의</b></h2>"
      ],
      "metadata": {
        "id": "PD4AEpgVu5oi"
      }
    },
    {
      "cell_type": "code",
      "source": [
        "criterion = nn.CrossEntropyLoss()\n",
        "optimizer = optim.Adam(model.parameters(), lr=0.001)"
      ],
      "metadata": {
        "id": "guH-xyXtvG7c"
      },
      "execution_count": 8,
      "outputs": []
    },
    {
      "cell_type": "markdown",
      "source": [
        "<h2><b>7. 모델 학습 </b></h2>"
      ],
      "metadata": {
        "id": "YPY_57WoeuMC"
      }
    },
    {
      "cell_type": "code",
      "source": [
        "epochs = 50\n",
        "train_losses = []\n",
        "val_losses = []\n",
        "train_accuracies = []\n",
        "val_accuracies = []\n",
        "\n",
        "for epoch in range(epochs):\n",
        "    model.train()\n",
        "    running_loss = 0.0\n",
        "    correct = 0\n",
        "    total = 0\n",
        "\n",
        "    for inputs, labels in train_loader:\n",
        "        optimizer.zero_grad()\n",
        "        outputs = model(inputs)\n",
        "        loss = criterion(outputs, labels)\n",
        "        loss.backward()\n",
        "        optimizer.step()\n",
        "\n",
        "        running_loss += loss.item()\n",
        "        _, predicted = torch.max(outputs.data, 1)\n",
        "        total += labels.size(0)\n",
        "        correct += (predicted == labels).sum().item()\n",
        "\n",
        "    train_losses.append(running_loss / len(train_loader))\n",
        "    train_accuracies.append(correct / total)\n",
        "\n",
        "    # 검증\n",
        "    model.eval()\n",
        "    val_loss = 0.0\n",
        "    val_correct = 0\n",
        "    val_total = 0\n",
        "\n",
        "    with torch.no_grad():\n",
        "        for inputs, labels in val_loader:\n",
        "            outputs = model(inputs)\n",
        "            loss = criterion(outputs, labels)\n",
        "            val_loss += loss.item()\n",
        "            _, predicted = torch.max(outputs.data, 1)\n",
        "            val_total += labels.size(0)\n",
        "            val_correct += (predicted == labels).sum().item()\n",
        "\n",
        "    val_losses.append(val_loss / len(val_loader))\n",
        "    val_accuracies.append(val_correct / val_total)\n",
        "\n",
        "    print(f\"Epoch [{epoch+1}/{epochs}], Train Loss: {train_losses[-1]:.4f}, Val Loss: {val_losses[-1]:.4f}, Train Acc: {train_accuracies[-1]*100:.2f}%, Val Acc: {val_accuracies[-1]*100:.2f}%\")\n"
      ],
      "metadata": {
        "id": "m8v6gPpjeOqQ",
        "colab": {
          "base_uri": "https://localhost:8080/"
        },
        "outputId": "d9552055-1a6e-4cb7-c60d-60ea0358a576"
      },
      "execution_count": 9,
      "outputs": [
        {
          "output_type": "stream",
          "name": "stdout",
          "text": [
            "Epoch [1/50], Train Loss: 0.9456, Val Loss: 0.8086, Train Acc: 68.45%, Val Acc: 69.94%\n",
            "Epoch [2/50], Train Loss: 0.8025, Val Loss: 0.7306, Train Acc: 70.12%, Val Acc: 69.94%\n",
            "Epoch [3/50], Train Loss: 0.7293, Val Loss: 0.6838, Train Acc: 70.19%, Val Acc: 70.23%\n",
            "Epoch [4/50], Train Loss: 0.7078, Val Loss: 0.6546, Train Acc: 70.77%, Val Acc: 70.81%\n",
            "Epoch [5/50], Train Loss: 0.6732, Val Loss: 0.6311, Train Acc: 70.26%, Val Acc: 71.10%\n",
            "Epoch [6/50], Train Loss: 0.6467, Val Loss: 0.6046, Train Acc: 70.12%, Val Acc: 71.68%\n",
            "Epoch [7/50], Train Loss: 0.6289, Val Loss: 0.5797, Train Acc: 71.92%, Val Acc: 72.83%\n",
            "Epoch [8/50], Train Loss: 0.6026, Val Loss: 0.5519, Train Acc: 73.23%, Val Acc: 76.30%\n",
            "Epoch [9/50], Train Loss: 0.5950, Val Loss: 0.5293, Train Acc: 73.15%, Val Acc: 76.88%\n",
            "Epoch [10/50], Train Loss: 0.5684, Val Loss: 0.5071, Train Acc: 75.11%, Val Acc: 78.03%\n",
            "Epoch [11/50], Train Loss: 0.5412, Val Loss: 0.4827, Train Acc: 76.34%, Val Acc: 80.35%\n",
            "Epoch [12/50], Train Loss: 0.5349, Val Loss: 0.4725, Train Acc: 78.36%, Val Acc: 76.88%\n",
            "Epoch [13/50], Train Loss: 0.5030, Val Loss: 0.4312, Train Acc: 79.67%, Val Acc: 81.79%\n",
            "Epoch [14/50], Train Loss: 0.4851, Val Loss: 0.4235, Train Acc: 79.38%, Val Acc: 80.35%\n",
            "Epoch [15/50], Train Loss: 0.4647, Val Loss: 0.4054, Train Acc: 81.19%, Val Acc: 82.95%\n",
            "Epoch [16/50], Train Loss: 0.4582, Val Loss: 0.3823, Train Acc: 80.82%, Val Acc: 84.39%\n",
            "Epoch [17/50], Train Loss: 0.4518, Val Loss: 0.3749, Train Acc: 80.61%, Val Acc: 85.26%\n",
            "Epoch [18/50], Train Loss: 0.4236, Val Loss: 0.3607, Train Acc: 81.77%, Val Acc: 82.66%\n",
            "Epoch [19/50], Train Loss: 0.4250, Val Loss: 0.3487, Train Acc: 81.91%, Val Acc: 84.97%\n",
            "Epoch [20/50], Train Loss: 0.4053, Val Loss: 0.3375, Train Acc: 82.85%, Val Acc: 84.39%\n",
            "Epoch [21/50], Train Loss: 0.3957, Val Loss: 0.3253, Train Acc: 82.71%, Val Acc: 86.42%\n",
            "Epoch [22/50], Train Loss: 0.4087, Val Loss: 0.3155, Train Acc: 83.50%, Val Acc: 86.42%\n",
            "Epoch [23/50], Train Loss: 0.3940, Val Loss: 0.3127, Train Acc: 83.21%, Val Acc: 86.99%\n",
            "Epoch [24/50], Train Loss: 0.3929, Val Loss: 0.3011, Train Acc: 84.66%, Val Acc: 87.86%\n",
            "Epoch [25/50], Train Loss: 0.3704, Val Loss: 0.2929, Train Acc: 85.09%, Val Acc: 87.86%\n",
            "Epoch [26/50], Train Loss: 0.3642, Val Loss: 0.2832, Train Acc: 84.37%, Val Acc: 88.15%\n",
            "Epoch [27/50], Train Loss: 0.3493, Val Loss: 0.2802, Train Acc: 85.60%, Val Acc: 87.28%\n",
            "Epoch [28/50], Train Loss: 0.3568, Val Loss: 0.2769, Train Acc: 84.37%, Val Acc: 86.71%\n",
            "Epoch [29/50], Train Loss: 0.3660, Val Loss: 0.2717, Train Acc: 83.29%, Val Acc: 90.46%\n",
            "Epoch [30/50], Train Loss: 0.3518, Val Loss: 0.2649, Train Acc: 86.11%, Val Acc: 88.44%\n",
            "Epoch [31/50], Train Loss: 0.3466, Val Loss: 0.2552, Train Acc: 85.96%, Val Acc: 89.88%\n",
            "Epoch [32/50], Train Loss: 0.3054, Val Loss: 0.2475, Train Acc: 86.54%, Val Acc: 89.31%\n",
            "Epoch [33/50], Train Loss: 0.3293, Val Loss: 0.2431, Train Acc: 85.75%, Val Acc: 90.46%\n",
            "Epoch [34/50], Train Loss: 0.3159, Val Loss: 0.2393, Train Acc: 87.12%, Val Acc: 90.75%\n",
            "Epoch [35/50], Train Loss: 0.3131, Val Loss: 0.2380, Train Acc: 86.83%, Val Acc: 90.17%\n",
            "Epoch [36/50], Train Loss: 0.3199, Val Loss: 0.2334, Train Acc: 87.84%, Val Acc: 90.75%\n",
            "Epoch [37/50], Train Loss: 0.2993, Val Loss: 0.2289, Train Acc: 87.63%, Val Acc: 90.46%\n",
            "Epoch [38/50], Train Loss: 0.3029, Val Loss: 0.2237, Train Acc: 86.03%, Val Acc: 92.20%\n",
            "Epoch [39/50], Train Loss: 0.3159, Val Loss: 0.2174, Train Acc: 87.19%, Val Acc: 92.49%\n",
            "Epoch [40/50], Train Loss: 0.2955, Val Loss: 0.2216, Train Acc: 87.05%, Val Acc: 92.49%\n",
            "Epoch [41/50], Train Loss: 0.3019, Val Loss: 0.2205, Train Acc: 87.19%, Val Acc: 92.77%\n",
            "Epoch [42/50], Train Loss: 0.3044, Val Loss: 0.2140, Train Acc: 87.48%, Val Acc: 93.35%\n",
            "Epoch [43/50], Train Loss: 0.2875, Val Loss: 0.2111, Train Acc: 88.93%, Val Acc: 92.20%\n",
            "Epoch [44/50], Train Loss: 0.2917, Val Loss: 0.2194, Train Acc: 87.19%, Val Acc: 93.35%\n",
            "Epoch [45/50], Train Loss: 0.2722, Val Loss: 0.2004, Train Acc: 87.77%, Val Acc: 93.64%\n",
            "Epoch [46/50], Train Loss: 0.2809, Val Loss: 0.1990, Train Acc: 89.22%, Val Acc: 94.51%\n",
            "Epoch [47/50], Train Loss: 0.2762, Val Loss: 0.2015, Train Acc: 88.78%, Val Acc: 92.20%\n",
            "Epoch [48/50], Train Loss: 0.2727, Val Loss: 0.1862, Train Acc: 89.22%, Val Acc: 93.93%\n",
            "Epoch [49/50], Train Loss: 0.2936, Val Loss: 0.1871, Train Acc: 87.19%, Val Acc: 93.64%\n",
            "Epoch [50/50], Train Loss: 0.2675, Val Loss: 0.1923, Train Acc: 88.64%, Val Acc: 94.80%\n"
          ]
        }
      ]
    },
    {
      "cell_type": "markdown",
      "source": [
        "<h2><b>8. 학습곡선 시각화 </b></h2>"
      ],
      "metadata": {
        "id": "4zU3HW6NSjP8"
      }
    },
    {
      "cell_type": "code",
      "source": [
        "plt.figure(figsize=(12, 5))\n",
        "\n",
        "# Loss Plot\n",
        "plt.subplot(1, 2, 1)\n",
        "plt.plot(train_losses, label='Train Loss')\n",
        "plt.plot(val_losses, label='Validation Loss')\n",
        "plt.xlabel(\"Epochs\")\n",
        "plt.ylabel(\"Loss\")\n",
        "plt.title(\"Loss over Epochs\")\n",
        "plt.legend()\n",
        "\n",
        "# Accuracy Plot\n",
        "plt.subplot(1, 2, 2)\n",
        "plt.plot(train_accuracies, label='Train Accuracy')\n",
        "plt.plot(val_accuracies, label='Validation Accuracy')\n",
        "plt.xlabel(\"Epochs\")\n",
        "plt.ylabel(\"Accuracy\")\n",
        "plt.title(\"Training vs Validation Accuracy\")\n",
        "plt.legend()\n",
        "\n",
        "plt.tight_layout()\n",
        "plt.show()\n"
      ],
      "metadata": {
        "colab": {
          "base_uri": "https://localhost:8080/",
          "height": 369
        },
        "id": "z79IYt9xSn6q",
        "outputId": "20c21ce1-e2b0-44cc-eb8a-281d69a1c8d9"
      },
      "execution_count": 10,
      "outputs": [
        {
          "output_type": "display_data",
          "data": {
            "text/plain": [
              "<Figure size 1200x500 with 2 Axes>"
            ],
            "image/png": "[encoded data removed]"
          },
          "metadata": {}
        }
      ]
    },
    {
      "cell_type": "markdown",
      "source": [
        "<h2><b>9. 모델 평가 </b></h2>"
      ],
      "metadata": {
        "id": "u29ZMZL1Scy4"
      }
    },
    {
      "cell_type": "code",
      "source": [
        "# 예측\n",
        "model.eval()\n",
        "y_pred = []\n",
        "y_true = []\n",
        "\n",
        "with torch.no_grad():\n",
        "    for inputs, labels in val_loader:\n",
        "        outputs = model(inputs)\n",
        "        _, predicted = torch.max(outputs, 1)\n",
        "        y_pred.extend(predicted.tolist())\n",
        "        y_true.extend(labels.tolist())\n",
        "\n",
        "# 평가 지표\n",
        "print(\"Precision:\", precision_score(y_true, y_pred, average='weighted'))\n",
        "print(\"Recall:\", recall_score(y_true, y_pred, average='weighted'))\n",
        "print(\"F1 Score:\", f1_score(y_true, y_pred, average='weighted'))\n",
        "print(\"ROC AUC Score:\", roc_auc_score(pd.get_dummies(y_true), pd.get_dummies(y_pred), average='weighted', multi_class='ovr'))\n",
        "\n",
        "# Confusion Matrix\n",
        "cm = confusion_matrix(y_true, y_pred)\n",
        "disp = ConfusionMatrixDisplay(confusion_matrix=cm, display_labels=output_encoder.classes_)\n",
        "disp.plot(cmap=plt.cm.Blues)\n",
        "plt.title(\"Confusion Matrix\")\n",
        "plt.show()\n"
      ],
      "metadata": {
        "colab": {
          "base_uri": "https://localhost:8080/",
          "height": 545
        },
        "id": "PY5aVeO-RBKH",
        "outputId": "a45cd83c-b36e-4f2e-ccb6-89968731c845"
      },
      "execution_count": 11,
      "outputs": [
        {
          "output_type": "stream",
          "name": "stdout",
          "text": [
            "Precision: 0.9497530737637335\n",
            "Recall: 0.9479768786127167\n",
            "F1 Score: 0.9479285816810843\n",
            "ROC AUC Score: 0.9561713415735452\n"
          ]
        },
        {
          "output_type": "display_data",
          "data": {
            "text/plain": [
              "<Figure size 640x480 with 2 Axes>"
            ],
            "image/png": "[encoded data removed]"
          },
          "metadata": {}
        }
      ]
    }
  ],
  "metadata": {
    "colab": {
      "provenance": []
    },
    "kernelspec": {
      "display_name": "Python 3",
      "name": "python3"
    },
    "language_info": {
      "name": "python"
    }
  },
  "nbformat": 4,
  "nbformat_minor": 0
}