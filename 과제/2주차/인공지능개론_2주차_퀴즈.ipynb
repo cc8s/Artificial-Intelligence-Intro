{
  "nbformat": 4,
  "nbformat_minor": 0,
  "metadata": {
    "colab": {
      "provenance": []
    },
    "kernelspec": {
      "name": "python3",
      "display_name": "Python 3"
    },
    "language_info": {
      "name": "python"
    }
  },
  "cells": [
    {
      "cell_type": "markdown",
      "source": [
        "<h1><b>인공지능개론 2주차 퀴즈</b></h1>\n",
        "<p>컴퓨터공학과 202136038 조성준</p>\n",
        "\n",
        "\n",
        "---\n",
        "\n",
        "<br>\n",
        "<p><b>다음 데이터 셋에 대하여 DT, RF, SVM, LR 분류를 각각 수행해보세요.</b></p>\n"
      ],
      "metadata": {
        "id": "-sYnzIfGPeYp"
      }
    },
    {
      "cell_type": "markdown",
      "source": [
        "\n",
        "**<h2>실제로 분류해보기</h2>**\n",
        "\n",
        "\n",
        "---\n",
        "\n"
      ],
      "metadata": {
        "id": "Cc5SHwA-U02y"
      }
    },
    {
      "cell_type": "code",
      "source": [
        "import pandas as pd\n",
        "# 붓꽃 데이터 CSV 파일 읽기\n",
        "file_path = \"/content/mobile.csv\"  #iris.csv를 저장한 경로입력\n",
        "df = pd.read_csv(file_path)\n",
        "\n",
        "# 데이터프레임 확인\n",
        "print(df.head())\n",
        "print(df.columns)"
      ],
      "metadata": {
        "colab": {
          "base_uri": "https://localhost:8080/"
        },
        "id": "lFTWtWrMSwXh",
        "outputId": "9098d550-8d5d-41bf-f2e1-fb7b417b929c"
      },
      "execution_count": 1,
      "outputs": [
        {
          "output_type": "stream",
          "name": "stdout",
          "text": [
            "   battery_power  blue  clock_speed  dual_sim  fc  four_g  int_memory  m_dep  \\\n",
            "0            842     0          2.2         0   1       0           7    0.6   \n",
            "1           1021     1          0.5         1   0       1          53    0.7   \n",
            "2            563     1          0.5         1   2       1          41    0.9   \n",
            "3            615     1          2.5         0   0       0          10    0.8   \n",
            "4           1821     1          1.2         0  13       1          44    0.6   \n",
            "\n",
            "   mobile_wt  n_cores  ...  px_height  px_width   ram  sc_h  sc_w  talk_time  \\\n",
            "0        188        2  ...         20       756  2549     9     7         19   \n",
            "1        136        3  ...        905      1988  2631    17     3          7   \n",
            "2        145        5  ...       1263      1716  2603    11     2          9   \n",
            "3        131        6  ...       1216      1786  2769    16     8         11   \n",
            "4        141        2  ...       1208      1212  1411     8     2         15   \n",
            "\n",
            "   three_g  touch_screen  wifi  price_range  \n",
            "0        0             0     1            1  \n",
            "1        1             1     0            2  \n",
            "2        1             1     0            2  \n",
            "3        1             0     0            2  \n",
            "4        1             1     0            1  \n",
            "\n",
            "[5 rows x 21 columns]\n",
            "Index(['battery_power', 'blue', 'clock_speed', 'dual_sim', 'fc', 'four_g',\n",
            "       'int_memory', 'm_dep', 'mobile_wt', 'n_cores', 'pc', 'px_height',\n",
            "       'px_width', 'ram', 'sc_h', 'sc_w', 'talk_time', 'three_g',\n",
            "       'touch_screen', 'wifi', 'price_range'],\n",
            "      dtype='object')\n"
          ]
        }
      ]
    },
    {
      "cell_type": "markdown",
      "source": [
        "---\n",
        "\n",
        "<b><h3>데이터 전처리</h3></b>"
      ],
      "metadata": {
        "id": "OnETWoTX-C0U"
      }
    },
    {
      "cell_type": "code",
      "source": [
        "# 데이터 전처리\n",
        "data = df.iloc[:, :-1]  # 입력 데이터\n",
        "target = df.iloc[:, -1]   # 타겟 데이터\n",
        "\n",
        "#훈련세트와 데이터세트로 나누기(20% 테스트세트지정-test_size=0.2)\n",
        "from sklearn.model_selection import train_test_split\n",
        "train_input, test_input, train_target, test_target = train_test_split(data, target, test_size = 0.2, random_state = 42)\n",
        "\n",
        "print(train_input.shape, test_input.shape)"
      ],
      "metadata": {
        "colab": {
          "base_uri": "https://localhost:8080/"
        },
        "id": "D6GtMhlibLoh",
        "outputId": "efc9b3e2-6379-4dad-89f4-a76fe9a8169b"
      },
      "execution_count": 11,
      "outputs": [
        {
          "output_type": "stream",
          "name": "stdout",
          "text": [
            "(1600, 20) (400, 20)\n"
          ]
        }
      ]
    },
    {
      "cell_type": "markdown",
      "source": [
        "\n",
        "\n",
        "---\n",
        "<b>StandardScaler를 사용하여 훈련 세트와 테스트 세트를 표준화</b>\n",
        "\n",
        "\n",
        "<br><b><li>\n",
        "DT와 RF는 특성의 스케일(크기)에 영향을 받지 않으므로 표준화를 적용해도 성능에는 거의 차이가 없음.</li>\n",
        "<br><li>\n",
        "SVM과 LR은 거리 기반(내적 연산) 모델이므로 특성 값의 크기가 다르면 모델이 제대로 학습되지 않을 수 있음.</li>\n",
        "<br>\n",
        "※ 따라서 밑의 표준화 결과는 SVM과 LR분류에서만 사용하고 DT와 RF에서는 원본데이터를 사용할 예정\n"
      ],
      "metadata": {
        "id": "jE50Zn2w_yFI"
      }
    },
    {
      "cell_type": "code",
      "source": [
        "#라이브러리 import\n",
        "from sklearn.preprocessing import StandardScaler\n",
        "\n",
        "# StandardScaler를 사용해 훈련 세트 변환\n",
        "ss = StandardScaler()\n",
        "ss.fit(train_input)\n",
        "train_scaled = ss.transform(train_input)\n",
        "test_scaled = ss.transform(test_input)"
      ],
      "metadata": {
        "id": "62v6myRBggXh"
      },
      "execution_count": 12,
      "outputs": []
    },
    {
      "cell_type": "markdown",
      "source": [
        "<h2><b>DT(결정 트리) 분류<b></h2>"
      ],
      "metadata": {
        "id": "DeBrMS7akxlg"
      }
    },
    {
      "cell_type": "code",
      "source": [
        "from sklearn.metrics import accuracy_score\n",
        "from sklearn.tree import DecisionTreeClassifier\n",
        "\n",
        "# DT 노델 생성\n",
        "dt = DecisionTreeClassifier(random_state=42)\n",
        "\n",
        "# 훈련 데이터로 모델 학습,트리기반 모델이므로 표준화 불필요\n",
        "dt.fit(train_input, train_target)\n",
        "\n",
        "# 테스트 데이터로 예측\n",
        "test_pred = dt.predict(test_input)\n",
        "\n",
        "# 정확도 출력\n",
        "accuracy = accuracy_score(test_target, test_pred)\n",
        "print(f\"DT 정확도: {accuracy:.4f}\")"
      ],
      "metadata": {
        "colab": {
          "base_uri": "https://localhost:8080/"
        },
        "id": "zHvNR5zmlAvT",
        "outputId": "6cdd1cb4-18c3-412a-f4de-4ffcfa96cab9"
      },
      "execution_count": 14,
      "outputs": [
        {
          "output_type": "stream",
          "name": "stdout",
          "text": [
            "DT 정확도: 0.8325\n"
          ]
        }
      ]
    },
    {
      "cell_type": "markdown",
      "source": [
        "<h2><b>RF(랜덤 포레스트) 분류<b></h2>\n",
        "\n",
        "---\n",
        "\n"
      ],
      "metadata": {
        "id": "_a5GZs83qiHx"
      }
    },
    {
      "cell_type": "code",
      "source": [
        "from sklearn.ensemble import RandomForestClassifier\n",
        "\n",
        "# RandomForestClassifier 모델 생성\n",
        "rf = RandomForestClassifier(random_state=42)\n",
        "\n",
        "# 훈련 데이터로 모델 학습,트리기반 모델이므로 표준화 불필요\n",
        "rf.fit(train_input, train_target)\n",
        "\n",
        "# 테스트 데이터로 예측\n",
        "test_pred = rf.predict(test_input)\n",
        "\n",
        "# 정확도 출력\n",
        "accuracy = accuracy_score(test_target, test_pred)\n",
        "print(f\"RF 정확도: {accuracy:.4f}\")"
      ],
      "metadata": {
        "colab": {
          "base_uri": "https://localhost:8080/"
        },
        "id": "KcQvgd-XsN7S",
        "outputId": "cb882c37-60a7-4bf5-ea12-7d3ce1eeb8ec"
      },
      "execution_count": 15,
      "outputs": [
        {
          "output_type": "stream",
          "name": "stdout",
          "text": [
            "RF 정확도: 0.8925\n"
          ]
        }
      ]
    },
    {
      "cell_type": "markdown",
      "source": [
        "<h2><b>SVM(서포트 벡터 머신) 분류<b></h2>\n",
        "\n",
        "---\n",
        "\n"
      ],
      "metadata": {
        "id": "BzoRuMw9qzpb"
      }
    },
    {
      "cell_type": "code",
      "source": [
        "from sklearn.svm import SVC\n",
        "\n",
        "# SVM 모델 생성 (커널은 'linear'로 설정)\n",
        "svm = SVC(kernel='linear', random_state=42)\n",
        "\n",
        "# 훈련 데이터로 모델 학습, 거리 기반모델이므로 위에서 StandardScaler을 사용해 생성한 표준화 데이터 사용\n",
        "svm.fit(train_scaled, train_target)\n",
        "\n",
        "# 테스트 데이터로 예측\n",
        "test_pred = svm.predict(test_scaled)\n",
        "\n",
        "# 정확도 출력\n",
        "accuracy = accuracy_score(test_target, test_pred)\n",
        "print(f\"SVM 정확도: {accuracy:.4f}\")"
      ],
      "metadata": {
        "colab": {
          "base_uri": "https://localhost:8080/"
        },
        "id": "CUdglFIitg1L",
        "outputId": "309cb2e4-991f-4103-9eb0-5c7f45c7b905"
      },
      "execution_count": 16,
      "outputs": [
        {
          "output_type": "stream",
          "name": "stdout",
          "text": [
            "SVM 정확도: 0.9700\n"
          ]
        }
      ]
    },
    {
      "cell_type": "markdown",
      "source": [
        "<h2><b>LR(로지스틱 회귀) 분류<b></h2>\n",
        "\n",
        "---"
      ],
      "metadata": {
        "id": "hy7tZgvwIShv"
      }
    },
    {
      "cell_type": "code",
      "source": [
        "from sklearn.linear_model import LogisticRegression\n",
        "\n",
        "# LR 모델 생성\n",
        "lr = LogisticRegression(random_state=42)\n",
        "\n",
        "# 훈련 데이터로 모델 학습, 거리 기반모델이므로 위에서 StandardScaler을 사용해 생성한 표준화 데이터 사용\n",
        "lr.fit(train_scaled, train_target)\n",
        "\n",
        "# 테스트 데이터로 예측\n",
        "test_pred = lr.predict(test_scaled)\n",
        "\n",
        "# 정확도 출력\n",
        "accuracy = accuracy_score(test_target, test_pred)\n",
        "print(f\"LR 정확도: {accuracy:.4f}\")"
      ],
      "metadata": {
        "colab": {
          "base_uri": "https://localhost:8080/"
        },
        "id": "O4wc260OIRy3",
        "outputId": "da47d56f-3db6-41f9-f9b0-74f630f3f49f"
      },
      "execution_count": 17,
      "outputs": [
        {
          "output_type": "stream",
          "name": "stdout",
          "text": [
            "LR 정확도: 0.9750\n"
          ]
        }
      ]
    }
  ]
}
